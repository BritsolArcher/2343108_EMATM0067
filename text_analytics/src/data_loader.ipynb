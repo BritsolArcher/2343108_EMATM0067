{
 "cells": [
  {
   "cell_type": "code",
   "execution_count": 1,
   "id": "annoying-ethiopia",
   "metadata": {},
   "outputs": [],
   "source": [
    "%load_ext autoreload\n",
    "%autoreload 2\n",
    "\n",
    "from datasets import load_dataset\n",
    "import numpy as np\n",
    "import pandas as pd"
   ]
  },
  {
   "cell_type": "markdown",
   "id": "09e90e82-bbdb-4532-91b1-58229d4f1043",
   "metadata": {},
   "source": [
    "# Social Media Emotion Classification\n",
    "\n",
    "The dataset classifies Tweets into anger, joy, optimism or sadness."
   ]
  },
  {
   "cell_type": "code",
   "execution_count": 3,
   "id": "efaf1096-acce-4226-a172-5357f49e91c1",
   "metadata": {},
   "outputs": [
    {
     "name": "stdout",
     "output_type": "stream",
     "text": [
      "Training dataset with 3257 instances loaded\n",
      "Development/validation dataset with 374 instances loaded\n",
      "Test dataset with 1421 instances loaded\n"
     ]
    }
   ],
   "source": [
    "cache_dir = \"./data_cache\"\n",
    "\n",
    "train_dataset = load_dataset(\n",
    "    \"tweet_eval\",\n",
    "    name=\"emotion\",\n",
    "    split=\"train\",\n",
    "    cache_dir=cache_dir,\n",
    ")\n",
    "print(f\"Training dataset with {len(train_dataset)} instances loaded\")\n",
    "\n",
    "\n",
    "val_dataset = load_dataset(\n",
    "    \"tweet_eval\",\n",
    "    name=\"emotion\",\n",
    "    split=\"validation\",\n",
    "    cache_dir=cache_dir,\n",
    ")\n",
    "print(f\"Development/validation dataset with {len(val_dataset)} instances loaded\")\n",
    "\n",
    "\n",
    "test_dataset = load_dataset(\n",
    "    \"tweet_eval\",\n",
    "    name=\"emotion\",\n",
    "    split=\"test\",\n",
    "    cache_dir=cache_dir,\n",
    ")\n",
    "print(f\"Test dataset with {len(test_dataset)} instances loaded\")\n",
    "\n",
    "# Access the input text and target labels like this...\n",
    "\n",
    "train_texts = train_dataset['text']\n",
    "train_labels = train_dataset['label']\n",
    "\n",
    "val_texts = val_dataset['text']\n",
    "val_labels = val_dataset['label']\n",
    "\n",
    "test_texts = test_dataset['text']\n",
    "test_labels = test_dataset['label']"
   ]
  },
  {
   "cell_type": "code",
   "execution_count": 4,
   "id": "d6b1836e",
   "metadata": {},
   "outputs": [],
   "source": [
    "def textsets_to_csv(textsets, labels):\n",
    "    emotion = {\n",
    "        0: \"Anger\",\n",
    "        1: \"Joy\",\n",
    "        2: \"Optimism\",\n",
    "        3: \"Sadness\"\n",
    "    }\n",
    "    data = pd.DataFrame()\n",
    "    data[\"text\"] = textsets\n",
    "    data[\"label\"] = labels\n",
    "    data[\"emotion\"] = data[\"label\"].apply(lambda x: emotion[x])\n",
    "    return data"
   ]
  },
  {
   "cell_type": "code",
   "execution_count": 5,
   "id": "ac932456",
   "metadata": {},
   "outputs": [],
   "source": [
    "train = textsets_to_csv(train_texts, train_labels)\n",
    "train.to_csv(\"../data/Tweets Emotion Classification/train.csv\",index=False)\n",
    "\n",
    "val = textsets_to_csv(val_texts, val_labels)\n",
    "val.to_csv(\"../data/Tweets Emotion Classification/val.csv\",index=False)\n",
    "\n",
    "test = textsets_to_csv(test_texts, test_labels)\n",
    "test.to_csv(\"../data/Tweets Emotion Classification/test.csv\",index=False)"
   ]
  },
  {
   "cell_type": "markdown",
   "id": "35af0fbc-2c18-4b68-839d-802595dac600",
   "metadata": {},
   "source": [
    "# Bio Creative V\n",
    "\n",
    "Marks chemicals and diseases in Pubmed articles as named entities. "
   ]
  },
  {
   "cell_type": "code",
   "execution_count": 7,
   "id": "69d0376c-93d1-4ee9-a7ba-76bba2afc2dd",
   "metadata": {},
   "outputs": [
    {
     "name": "stdout",
     "output_type": "stream",
     "text": [
      "The dataset is a dictionary with 3 splits: \n",
      "\n",
      "DatasetDict({\n",
      "    train: Dataset({\n",
      "        features: ['tokens', 'tags'],\n",
      "        num_rows: 5228\n",
      "    })\n",
      "    validation: Dataset({\n",
      "        features: ['tokens', 'tags'],\n",
      "        num_rows: 5330\n",
      "    })\n",
      "    test: Dataset({\n",
      "        features: ['tokens', 'tags'],\n",
      "        num_rows: 5865\n",
      "    })\n",
      "})\n"
     ]
    }
   ],
   "source": [
    "ner_dataset = load_dataset(\n",
    "    \"tner/bc5cdr\", \n",
    ")\n",
    "\n",
    "print(f'The dataset is a dictionary with {len(ner_dataset)} splits: \\n\\n{ner_dataset}')"
   ]
  },
  {
   "cell_type": "code",
   "execution_count": 8,
   "id": "8515ff00-f8bc-42ac-801f-50224ea50e7d",
   "metadata": {},
   "outputs": [],
   "source": [
    "train_sentences_ner = [item['tokens'] for item in ner_dataset['train']]\n",
    "train_labels_ner = [[str(tag) for tag in item['tags']] for item in ner_dataset['train']]\n",
    "\n",
    "val_sentences_ner = [item['tokens'] for item in ner_dataset['validation']]\n",
    "val_labels_ner = [[str(tag) for tag in item['tags']] for item in ner_dataset['validation']]\n",
    "\n",
    "test_sentences_ner = [item['tokens'] for item in ner_dataset['test']]\n",
    "test_labels_ner = [[str(tag) for tag in item['tags']] for item in ner_dataset['test']]"
   ]
  },
  {
   "cell_type": "code",
   "execution_count": 9,
   "id": "df2cad09",
   "metadata": {},
   "outputs": [
    {
     "data": {
      "text/plain": [
       "array(['0', '1', '2', '3', '4'], dtype='<U1')"
      ]
     },
     "execution_count": 9,
     "metadata": {},
     "output_type": "execute_result"
    }
   ],
   "source": [
    "np.unique(np.concatenate(train_labels_ner))"
   ]
  },
  {
   "cell_type": "code",
   "execution_count": 10,
   "id": "4f761c49",
   "metadata": {},
   "outputs": [],
   "source": [
    "with open('../data/Named Entity Recognition/train_sentences_ner', 'w') as file:\n",
    "    for inner_list in train_sentences_ner:\n",
    "        line = ', '.join(inner_list)\n",
    "        file.write(f\"{line}\\n\")"
   ]
  },
  {
   "cell_type": "code",
   "execution_count": 11,
   "id": "e0efdcf2",
   "metadata": {},
   "outputs": [],
   "source": [
    "def textsets_to_csv(textsets, labels):\n",
    "    label = {\n",
    "        '0': \"O\",\n",
    "        '1': \"B-Chemical\",\n",
    "        '2':\"B-Disease\",\n",
    "        '3':\"I-Disease\",\n",
    "        '4':\"I-Chemical\"\n",
    "    }\n",
    "    data = pd.DataFrame()\n",
    "    data[\"text\"] = textsets\n",
    "    data[\"label\"] = labels\n",
    "    \n",
    "    data[\"text\"] = data[\"text\"].apply(lambda x: ' '.join(x))\n",
    "    data[\"label\"] = data[\"label\"].apply(lambda x: ' '.join(x))\n",
    "    \n",
    "    return data"
   ]
  }
 ],
 "metadata": {
  "kernelspec": {
   "display_name": "text_analytics",
   "language": "python",
   "name": "text_analytics"
  },
  "language_info": {
   "codemirror_mode": {
    "name": "ipython",
    "version": 3
   },
   "file_extension": ".py",
   "mimetype": "text/x-python",
   "name": "python",
   "nbconvert_exporter": "python",
   "pygments_lexer": "ipython3",
   "version": "3.11.8"
  }
 },
 "nbformat": 4,
 "nbformat_minor": 5
}
