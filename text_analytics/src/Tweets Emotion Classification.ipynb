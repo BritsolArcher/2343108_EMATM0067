{
 "cells": [
  {
   "cell_type": "code",
   "execution_count": 1,
   "id": "9d1d955e",
   "metadata": {},
   "outputs": [],
   "source": [
    "import pandas as pd\n",
    "import numpy as np\n",
    "from datasets import load_dataset\n",
    "from tqdm import tqdm"
   ]
  },
  {
   "cell_type": "markdown",
   "id": "14f3eba8",
   "metadata": {},
   "source": [
    "## Load Data"
   ]
  },
  {
   "cell_type": "code",
   "execution_count": 2,
   "id": "f38fbb28",
   "metadata": {},
   "outputs": [],
   "source": [
    "%load_ext autoreload\n",
    "%autoreload 2"
   ]
  },
  {
   "cell_type": "code",
   "execution_count": 3,
   "id": "4830fdf0",
   "metadata": {},
   "outputs": [
    {
     "name": "stdout",
     "output_type": "stream",
     "text": [
      "Training dataset with 3257 instances loaded\n",
      "Development/validation dataset with 374 instances loaded\n",
      "Test dataset with 1421 instances loaded\n"
     ]
    }
   ],
   "source": [
    "cache_dir = \"../data_cache\"\n",
    "\n",
    "train_dataset = load_dataset(\n",
    "    \"tweet_eval\",\n",
    "    name=\"emotion\",\n",
    "    split=\"train\",\n",
    "    cache_dir=cache_dir,\n",
    ")\n",
    "print(f\"Training dataset with {len(train_dataset)} instances loaded\")\n",
    "\n",
    "\n",
    "val_dataset = load_dataset(\n",
    "    \"tweet_eval\",\n",
    "    name=\"emotion\",\n",
    "    split=\"validation\",\n",
    "    cache_dir=cache_dir,\n",
    ")\n",
    "print(f\"Development/validation dataset with {len(val_dataset)} instances loaded\")\n",
    "\n",
    "\n",
    "test_dataset = load_dataset(\n",
    "    \"tweet_eval\",\n",
    "    name=\"emotion\",\n",
    "    split=\"test\",\n",
    "    cache_dir=cache_dir,\n",
    ")\n",
    "print(f\"Test dataset with {len(test_dataset)} instances loaded\")\n",
    "\n",
    "# Access the input text and target labels like this...\n",
    "train_texts = train_dataset['text']\n",
    "train_labels = train_dataset['label']\n",
    "\n",
    "val_texts = val_dataset['text']\n",
    "val_labels = val_dataset['label']\n",
    "\n",
    "test_texts = test_dataset['text']\n",
    "test_labels = test_dataset['label']"
   ]
  },
  {
   "cell_type": "code",
   "execution_count": 4,
   "id": "7f831bde",
   "metadata": {},
   "outputs": [
    {
     "data": {
      "text/plain": [
       "\"No but that's so cute. Atsu was probably shy about photos before but cherry helped her out uwu\""
      ]
     },
     "execution_count": 4,
     "metadata": {},
     "output_type": "execute_result"
    }
   ],
   "source": [
    "train_texts[2]"
   ]
  },
  {
   "cell_type": "markdown",
   "id": "348d4a7b",
   "metadata": {},
   "source": [
    "# Data Preprocessing"
   ]
  },
  {
   "cell_type": "code",
   "execution_count": 5,
   "id": "9b533ae1",
   "metadata": {},
   "outputs": [],
   "source": [
    "import re\n",
    "import emoji\n",
    "import nltk"
   ]
  },
  {
   "cell_type": "code",
   "execution_count": 22,
   "id": "4a44968b",
   "metadata": {},
   "outputs": [],
   "source": [
    "class DataPreprocessing:\n",
    "    def __init__(self):\n",
    "        self.__text = {\n",
    "            'train': train_texts,\n",
    "            'val': val_texts,\n",
    "            'test': test_texts,\n",
    "            'trial': train_texts[:20]\n",
    "        }\n",
    "    \n",
    "    # Cleaning\n",
    "    \n",
    "    def remove_non_printable(self,text):\n",
    "        def has_non_printable(text):\n",
    "            non_printable_pattern = re.compile(r'[\\x00-\\x1F\\x7F-\\x9F]')\n",
    "            match = re.search(non_printable_pattern, text)\n",
    "            return bool(match)\n",
    "\n",
    "        while True:\n",
    "            non_printable_pattern = re.compile(r'[\\x00-\\x1F\\x7F-\\x9F]')\n",
    "            text = re.sub(non_printable_pattern, '', text)\n",
    "            if not has_non_printable(text):\n",
    "                break   \n",
    "        cleaned_text = text\n",
    "        return cleaned_text\n",
    "    \n",
    "    def emoji_to_text(self,emoji_str):\n",
    "        text = emoji.demojize(emoji_str)\n",
    "        return text\n",
    "    \n",
    "    def remove_urls(self,text):\n",
    "        url_pattern = re.compile(r'https?://\\S+|www\\.\\S+')\n",
    "        return url_pattern.sub('', text)\n",
    "    \n",
    "    def remove_mentions(self,text):\n",
    "        mention_pattern = re.compile(r'@[\\w_]+')\n",
    "        return mention_pattern.sub('', text)\n",
    "    \n",
    "    def remove_hashtag_symbol(self, text):\n",
    "        hashtag_pattern = re.compile(r'#(\\w+)')\n",
    "        return hashtag_pattern.sub(r'\\1', text)\n",
    "    \n",
    "    # Tokenisation\n",
    "    def text_tokenisation(self, text):\n",
    "        tokens = nltk.word_tokenize(text)\n",
    "        \n",
    "        pattern = re.compile(r'[^a-zA-Z0-9]')\n",
    "        cleaned_tokens = []\n",
    "        for token in tokens:\n",
    "            if not re.search(pattern, token):\n",
    "                cleaned_tokens.append(token)\n",
    "        \n",
    "        return cleaned_tokens\n",
    "    \n",
    "    # Lemmatisation\n",
    "    \n",
    "    def __call__(self, text_set_type):\n",
    "        clean_sents = []\n",
    "        \n",
    "        for sent in self.__text[text_set_type]:\n",
    "            # Cleaning\n",
    "            sent = self.remove_non_printable(sent)\n",
    "            sent = self.emoji_to_text(sent)\n",
    "            sent = self.remove_urls(sent)\n",
    "            sent = self.remove_mentions(sent)\n",
    "            sent = self.remove_hashtag_symbol(sent)\n",
    "            # Tokenisation\n",
    "            sent = self.text_tokenisation(sent)\n",
    "            \n",
    "            clean_sents.append(sent)\n",
    "        return clean_sents"
   ]
  },
  {
   "cell_type": "code",
   "execution_count": 23,
   "id": "cfb75845",
   "metadata": {},
   "outputs": [],
   "source": [
    "data_preprocessor = DataPreprocessing()"
   ]
  },
  {
   "cell_type": "code",
   "execution_count": 24,
   "id": "4f805fff",
   "metadata": {},
   "outputs": [],
   "source": [
    "trial = data_preprocessor(\"trial\")"
   ]
  }
 ],
 "metadata": {
  "kernelspec": {
   "display_name": "text_analytics",
   "language": "python",
   "name": "text_analytics"
  },
  "language_info": {
   "codemirror_mode": {
    "name": "ipython",
    "version": 3
   },
   "file_extension": ".py",
   "mimetype": "text/x-python",
   "name": "python",
   "nbconvert_exporter": "python",
   "pygments_lexer": "ipython3",
   "version": "3.11.8"
  }
 },
 "nbformat": 4,
 "nbformat_minor": 5
}
